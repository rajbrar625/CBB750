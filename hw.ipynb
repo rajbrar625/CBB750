{
 "cells": [
  {
   "cell_type": "markdown",
   "metadata": {},
   "source": [
    "### Homework assignment for clinical NLP"
   ]
  },
  {
   "cell_type": "markdown",
   "metadata": {},
   "source": [
    "(1) Regular Expressions. Complete first 8 “lessons” at https://regexone.com/"
   ]
  },
  {
   "cell_type": "code",
   "execution_count": 22,
   "metadata": {
    "collapsed": false
   },
   "outputs": [
    {
     "name": "stdout",
     "output_type": "stream",
     "text": [
      "Done\n"
     ]
    }
   ],
   "source": [
    "print \"Done\""
   ]
  },
  {
   "cell_type": "markdown",
   "metadata": {},
   "source": [
    "(2) Propose a simple way of finding negations in a sentence using regular expressions.  \n",
    "Your regular expression should make use of the | and * symbols."
   ]
  },
  {
   "cell_type": "code",
   "execution_count": 23,
   "metadata": {
    "collapsed": false
   },
   "outputs": [
    {
     "name": "stdout",
     "output_type": "stream",
     "text": [
      "nor \n",
      "not \n",
      "no \n"
     ]
    }
   ],
   "source": [
    "import re\n",
    "\n",
    "s = \"nor not no northern\"\n",
    "match = re.findall(r'no[r|t]*\\s+',s)\n",
    "\n",
    "for word in match:\n",
    "    print word\n",
    "    "
   ]
  },
  {
   "cell_type": "markdown",
   "metadata": {},
   "source": [
    "(3) Use NLTK to tokenize, stem, POS tag, and find named entities in \n",
    "“Fx of obesity but no fx of coronary artery diseases.”  \n",
    "What named entities are in this sentence? What named entities does NLTK recognize? \n",
    "Use NLTK to plot the parse tree returned by "
   ]
  },
  {
   "cell_type": "code",
   "execution_count": 24,
   "metadata": {
    "collapsed": false
   },
   "outputs": [
    {
     "name": "stdout",
     "output_type": "stream",
     "text": [
      "[u'Which', u'Fx', u'of', u'obes', u'but', u'no', u'fx', u'of', u'coronari', u'arteri', u'diseas']\n",
      "[('Which', 'JJ'), ('Fx', 'NNP'), ('of', 'IN'), ('obesity', 'NN'), ('but', 'CC'), ('no', 'DT'), ('fx', 'NN'), ('of', 'IN'), ('coronary', 'JJ'), ('artery', 'NN'), ('disease', 'NN')]\n",
      "(S\n",
      "  (PERSON Which/JJ Fx/NNP)\n",
      "  of/IN\n",
      "  obesity/NN\n",
      "  but/CC\n",
      "  no/DT\n",
      "  fx/NN\n",
      "  of/IN\n",
      "  coronary/JJ\n",
      "  artery/NN\n",
      "  disease/NN)\n"
     ]
    },
    {
     "data": {
      "image/png": "[encoded data removed]",
      "text/plain": [
       "Tree('S', [Tree('PERSON', [('Which', 'JJ'), ('Fx', 'NNP')]), ('of', 'IN'), ('obesity', 'NN'), ('but', 'CC'), ('no', 'DT'), ('fx', 'NN'), ('of', 'IN'), ('coronary', 'JJ'), ('artery', 'NN'), ('disease', 'NN')])"
      ]
     },
     "execution_count": 24,
     "metadata": {},
     "output_type": "execute_result"
    }
   ],
   "source": [
    "import nltk\n",
    "import os\n",
    "s = \"Which Fx of obesity but no fx of coronary artery disease\"\n",
    "tokens = nltk.word_tokenize(s)\n",
    "\n",
    "print [nltk.PorterStemmer().stem(t) for t in tokens] \n",
    "\n",
    "print nltk.pos_tag(tokens)\n",
    "\n",
    "print(nltk.ne_chunk(nltk.pos_tag(tokens), binary=False))\n",
    "\n",
    "sentence = nltk.ne_chunk(nltk.pos_tag(tokens))\n",
    "\n",
    "import os\n",
    "from IPython.core.display import display\n",
    "os.environ['PATH'] += os.pathsep + '/usr/local/Cellar/ghostscript/9.20/bin'\n",
    "sentence\n",
    "\n",
    " \n",
    "\n",
    "\n",
    "\n",
    "\n",
    "\n",
    "\n",
    "\n",
    " \n",
    "\n"
   ]
  },
  {
   "cell_type": "markdown",
   "metadata": {},
   "source": [
    "(4) Give several tokens with the “WDT” POS tag"
   ]
  },
  {
   "cell_type": "code",
   "execution_count": 25,
   "metadata": {
    "collapsed": false
   },
   "outputs": [
    {
     "name": "stdout",
     "output_type": "stream",
     "text": [
      "WDT: WH-determiner\n",
      "    that what whatever which whichever\n",
      "None\n",
      "[u'which', u'Fx', u'of', u'obes', u'but', u'no', u'fx', u'of', u'coronari', u'arteri', u'diseas']\n",
      "[('which', 'WDT'), ('Fx', 'NNP'), ('of', 'IN'), ('obesity', 'NN'), ('but', 'CC'), ('no', 'DT'), ('fx', 'NN'), ('of', 'IN'), ('coronary', 'JJ'), ('artery', 'NN'), ('disease', 'NN')]\n",
      "(S\n",
      "  which/WDT\n",
      "  Fx/NNP\n",
      "  of/IN\n",
      "  obesity/NN\n",
      "  but/CC\n",
      "  no/DT\n",
      "  fx/NN\n",
      "  of/IN\n",
      "  coronary/JJ\n",
      "  artery/NN\n",
      "  disease/NN)\n"
     ]
    }
   ],
   "source": [
    "print nltk.help.upenn_tagset('WDT')\n",
    "\n",
    "s = \"which Fx of obesity but no fx of coronary artery disease\"\n",
    "tokens = nltk.word_tokenize(s)\n",
    "\n",
    "print [nltk.PorterStemmer().stem(t) for t in tokens] \n",
    "\n",
    "print nltk.pos_tag(tokens)\n",
    "\n",
    "print(nltk.ne_chunk(nltk.pos_tag(tokens), binary=False))"
   ]
  },
  {
   "cell_type": "markdown",
   "metadata": {},
   "source": [
    "(5) Create a dispersion plot of \"moon, earth, sun, mars\" in the 'sci.space' category of 20 newsgroups."
   ]
  },
  {
   "cell_type": "code",
   "execution_count": 26,
   "metadata": {
    "collapsed": false
   },
   "outputs": [
    {
     "data": {
      "image/png": "[encoded data removed]",
      "text/plain": [
       "<matplotlib.figure.Figure at 0x103c4d4d0>"
      ]
     },
     "metadata": {},
     "output_type": "display_data"
    }
   ],
   "source": [
    "import nltk\n",
    "import itertools\n",
    "\n",
    "from nltk.tokenize import sent_tokenize, word_tokenize\n",
    "\n",
    "from sklearn.datasets import fetch_20newsgroups\n",
    "sci = ['sci.space']\n",
    "science_news = fetch_20newsgroups(subset='train', categories=sci, \n",
    "                                  remove=('headers', 'footers', 'quotes'))\n",
    "\n",
    "tokens = list()\n",
    "for doc in science_news.data:\n",
    " sents = nltk.sent_tokenize(doc)\n",
    " for i, s in enumerate(sents):\n",
    "    tokens.append(nltk.word_tokenize(s))\n",
    "\n",
    "all_tokens = list(itertools.chain.from_iterable(tokens))\n",
    "\n",
    "normalized_tokens = [t.lower() for t in all_tokens]\n",
    "\n",
    "text_tokens = nltk.Text(normalized_tokens)\n",
    "text_tokens.dispersion_plot(['moon','earth','sun','mars'])   \n",
    "  \n",
    "\n",
    "\n",
    "   \n",
    " \n",
    "    \n",
    " \n",
    "\n",
    "\n",
    " \n",
    "\n",
    "\n",
    " \n",
    "\n",
    "  \n",
    "\n",
    "\n",
    "\n",
    "\n",
    "\n",
    "\n",
    " \n"
   ]
  },
  {
   "cell_type": "markdown",
   "metadata": {},
   "source": [
    "(6) Write a tag pattern to cover noun phrases that contain gerunds, \n",
    "e.g. \"the/DT receiving/VBG end/NN\", \"assistant/NN managing/VBG editor/NN\". \n",
    "Add these patterns to the grammar, one per line. \n",
    "Test your work using some tagged sentences of your own devising."
   ]
  },
  {
   "cell_type": "code",
   "execution_count": 27,
   "metadata": {
    "collapsed": false
   },
   "outputs": [
    {
     "data": {
      "image/png": "[encoded data removed]",
      "text/plain": [
       "Tree('S', [('R', 'VB'), Tree('NP', [('a', 'DT'), ('j', 'NN')]), (' ', 'VBZ'), Tree('NP', [('a', 'DT'), ('v', 'JJ'), ('o', 'NN')]), Tree('NP', [('i', 'NN')]), ('d', 'VBP'), Tree('NP', [('e', 'NN')]), Tree('NP', [('d', 'NN')]), (' ', 'NNP'), Tree('NP', [('d', 'NN')]), Tree('NP', [('o', 'NN')]), Tree('NP', [('i', 'NN')]), ('n', 'VBP'), Tree('NP', [('g', 'NN')]), Tree('NP', [(' ', 'NN')]), Tree('NP', [('h', 'NN')]), ('i', 'JJ'), ('s', 'VBP'), (' ', 'NNP'), ('m', 'FW'), Tree('NP', [('a', 'DT'), ('t', 'NN')]), Tree('NP', [('h', 'NN')]), (' ', 'VBZ'), Tree('NP', [('a', 'DT'), ('s', 'JJ'), ('s', 'NN')]), Tree('NP', [('i', 'NN')]), ('g', 'VBP'), Tree('NP', [('n', 'JJ'), ('m', 'NN')]), Tree('NP', [('e', 'NN')]), Tree('NP', [('n', 'JJ'), ('t', 'NN')]), Tree('NP', [(' ', 'NN')]), Tree('NP', [('b', 'NN')]), Tree('NP', [('e', 'NN')]), ('c', 'VBZ'), Tree('NP', [('a', 'DT'), ('u', 'JJ'), ('s', 'NN')]), Tree('NP', [('e', 'NN')]), (' ', 'NNP'), Tree('NP', [('t', 'NN')]), Tree('NP', [('h', 'NN')]), Tree('NP', [('e', 'NN')]), (' ', 'NNP'), ('N', 'NNP'), ('B', 'NNP'), ('A', 'NNP'), (' ', 'NNP'), Tree('NP', [('f', 'NN')]), Tree('NP', [('i', 'NN')]), ('n', 'VBP'), Tree('NP', [('a', 'DT'), ('l', 'NN')]), Tree('NP', [('s', 'NN')]), (' ', 'NNP'), ('g', 'VBZ'), Tree('NP', [('a', 'DT'), ('m', 'NN')]), Tree('NP', [('e', 'NN')]), (' ', 'NNP'), ('w', 'VBZ'), Tree('NP', [('a', 'DT'), ('s', 'JJ'), (' ', 'NN')]), Tree('NP', [('o', 'NN')]), Tree('NP', [('n', 'NN')]), ('.', '.')])"
      ]
     },
     "metadata": {},
     "output_type": "display_data"
    }
   ],
   "source": [
    "import nltk\n",
    "\n",
    "import os\n",
    "from IPython.core.display import display\n",
    "os.environ['PATH'] += os.pathsep + '/usr/local/Cellar/ghostscript/9.20/bin'\n",
    "\n",
    "grammar= r\"\"\"\n",
    "Gerunds: {<DT>?<NN>?<VBG><NN>}\n",
    "NP: {<DT|PP\\$>?<JJ>*<NN>} \"\"\"\n",
    "\n",
    "cp = nltk.RegexpParser(grammar)\n",
    "\n",
    "sent_chunked = nltk.ne_chunk(nltk.pos_tag(\"Raj avoided doing his math assignment because the NBA finals game was on.\"))\n",
    "\n",
    "display(cp.parse(sent_chunked))\n",
    "\n",
    " "
   ]
  },
  {
   "cell_type": "markdown",
   "metadata": {},
   "source": [
    "(7) Use the function nltk.ne_chunk_sents to find top 10 most common named entities in the 'sci.med' category of 20 newsgroups."
   ]
  },
  {
   "cell_type": "code",
   "execution_count": 28,
   "metadata": {
    "collapsed": false
   },
   "outputs": [
    {
     "data": {
      "text/plain": [
       "[(u'the', 6298),\n",
       " (u',', 6115),\n",
       " (u'.', 5567),\n",
       " (u'of', 2964),\n",
       " (u'to', 2836),\n",
       " (u'and', 2594),\n",
       " (u'a', 2535),\n",
       " (u')', 2037),\n",
       " (u'(', 1933),\n",
       " (u'in', 1811)]"
      ]
     },
     "execution_count": 28,
     "metadata": {},
     "output_type": "execute_result"
    }
   ],
   "source": [
    "from nltk import FreqDist\n",
    "fdist = FreqDist(text_tokens)\n",
    "fdist.most_common(10)"
   ]
  },
  {
   "cell_type": "markdown",
   "metadata": {},
   "source": [
    "(8) Look at http://scikit-learn.org/stable/modules/feature_extraction.html\n",
    "\n",
    "Start by initializing ngram_vectorizer = CountVectorizer(analyzer='char_wb', ngram_range=(2, 2), min_df=1)\n",
    "\n",
    "- Apply this to “Fx of obesity but no fx of coronary artery diseases.” \n",
    "- How many features are there?\n",
    "- How many features do you get with setting ngram_range=(2, 5)?"
   ]
  },
  {
   "cell_type": "code",
   "execution_count": 29,
   "metadata": {
    "collapsed": false
   },
   "outputs": [
    {
     "name": "stdout",
     "output_type": "stream",
     "text": [
      "32\n",
      "48\n"
     ]
    }
   ],
   "source": [
    "from sklearn.feature_extraction.text import CountVectorizer\n",
    "s = \"Fx of obesity but no fx of coronary artery diseases.\"\n",
    "ngram_vectorizer = CountVectorizer(analyzer='char_wb', ngram_range=(2, 2), min_df=1)\n",
    "x = ngram_vectorizer.fit_transform(s)\n",
    "print len(ngram_vectorizer.get_feature_names())\n",
    "\n",
    "ngram_vectorizer = CountVectorizer(analyzer='char_wb', ngram_range=(2, 5), min_df=1)\n",
    "x = ngram_vectorizer.fit_transform(s)\n",
    "print len(ngram_vectorizer.get_feature_names())\n",
    " "
   ]
  },
  {
   "cell_type": "markdown",
   "metadata": {},
   "source": [
    "(9) Read article on Parsey McParseface:\n",
    "\n",
    "https://www.washingtonpost.com/news/wonk/wp/2016/05/18/googles-new-artificial-intelligence-cant-understand-these-sentences-can-you/?utm_term=.cf835cf7e5fd\n",
    "\n",
    "What is a garden-path sentence?  \n",
    "Can Parsey McParseface help with pronoun resolution across sentences?"
   ]
  },
  {
   "cell_type": "markdown",
   "metadata": {
    "collapsed": true
   },
   "source": [
    "A garden-path sentence is a sentence that is grammatically correct, but where the words are arranged in a way that confuses the reader.  If Parsey McParseface can accurately identify and link the subject and action in a garden-path sentence, it can likely help with pronoun resolution across sentences."
   ]
  }
 ],
 "metadata": {
  "anaconda-cloud": {},
  "kernelspec": {
   "display_name": "Python [default]",
   "language": "python",
   "name": "python2"
  },
  "language_info": {
   "codemirror_mode": {
    "name": "ipython",
    "version": 2
   },
   "file_extension": ".py",
   "mimetype": "text/x-python",
   "name": "python",
   "nbconvert_exporter": "python",
   "pygments_lexer": "ipython2",
   "version": "2.7.12"
  }
 },
 "nbformat": 4,
 "nbformat_minor": 1
}
